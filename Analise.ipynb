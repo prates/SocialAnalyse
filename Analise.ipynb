{
 "cells": [
  {
   "cell_type": "code",
   "execution_count": 1,
   "metadata": {
    "collapsed": true
   },
   "outputs": [],
   "source": [
    "import pandas as pd\n",
    "import json\n",
    "import numpy as np"
   ]
  },
  {
   "cell_type": "markdown",
   "metadata": {},
   "source": [
    "# Lendo arquivo de dados\n",
    "Nesse primeiro bloco vamos ler as dados salvos no arquivo de log e carregá-los em um dataframe. "
   ]
  },
  {
   "cell_type": "code",
   "execution_count": 2,
   "metadata": {
    "collapsed": true
   },
   "outputs": [],
   "source": [
    "with open('twitter.log', 'r') as f:\n",
    "    data = f.readlines()\n",
    "data = [ json.loads(line) for line in data]\n"
   ]
  },
  {
   "cell_type": "code",
   "execution_count": 3,
   "metadata": {},
   "outputs": [
    {
     "data": {
      "text/plain": [
       "23355"
      ]
     },
     "execution_count": 3,
     "metadata": {},
     "output_type": "execute_result"
    }
   ],
   "source": [
    "data_f = pd.DataFrame(data) \n",
    "# total de msgs\n",
    "len(data_f) "
   ]
  },
  {
   "cell_type": "markdown",
   "metadata": {},
   "source": [
    "Nessa parte da análise vamos verificar quantas menssagens tem a geo localização habilitada. "
   ]
  },
  {
   "cell_type": "code",
   "execution_count": 4,
   "metadata": {
    "scrolled": false
   },
   "outputs": [
    {
     "data": {
      "text/plain": [
       "1158"
      ]
     },
     "execution_count": 4,
     "metadata": {},
     "output_type": "execute_result"
    }
   ],
   "source": [
    "enable_geo = data_f[data_f['coordinates'].notnull()]\n",
    "len(enable_geo) "
   ]
  },
  {
   "cell_type": "markdown",
   "metadata": {},
   "source": [
    "Verificando as fontes das tweets\n"
   ]
  },
  {
   "cell_type": "code",
   "execution_count": 5,
   "metadata": {
    "scrolled": true
   },
   "outputs": [
    {
     "data": {
      "text/html": [
       "<div>\n",
       "<style>\n",
       "    .dataframe thead tr:only-child th {\n",
       "        text-align: right;\n",
       "    }\n",
       "\n",
       "    .dataframe thead th {\n",
       "        text-align: left;\n",
       "    }\n",
       "\n",
       "    .dataframe tbody tr th {\n",
       "        vertical-align: top;\n",
       "    }\n",
       "</style>\n",
       "<table border=\"1\" class=\"dataframe\">\n",
       "  <thead>\n",
       "    <tr style=\"text-align: right;\">\n",
       "      <th></th>\n",
       "      <th>count_groupby</th>\n",
       "    </tr>\n",
       "    <tr>\n",
       "      <th>source</th>\n",
       "      <th></th>\n",
       "    </tr>\n",
       "  </thead>\n",
       "  <tbody>\n",
       "    <tr>\n",
       "      <th>&lt;a href=\"http://foursquare.com\" rel=\"nofollow\"&gt;Foursquare&lt;/a&gt;</th>\n",
       "      <td>138</td>\n",
       "    </tr>\n",
       "    <tr>\n",
       "      <th>&lt;a href=\"http://instagram.com\" rel=\"nofollow\"&gt;Instagram&lt;/a&gt;</th>\n",
       "      <td>805</td>\n",
       "    </tr>\n",
       "    <tr>\n",
       "      <th>&lt;a href=\"http://laconversa.com\" rel=\"nofollow\"&gt;Tendências São Paulo&lt;/a&gt;</th>\n",
       "      <td>1</td>\n",
       "    </tr>\n",
       "    <tr>\n",
       "      <th>&lt;a href=\"http://tapbots.com/software/tweetbot/mac\" rel=\"nofollow\"&gt;Tweetbot for Mac&lt;/a&gt;</th>\n",
       "      <td>3</td>\n",
       "    </tr>\n",
       "    <tr>\n",
       "      <th>&lt;a href=\"http://tapbots.com/tweetbot\" rel=\"nofollow\"&gt;Tweetbot for iΟS&lt;/a&gt;</th>\n",
       "      <td>92</td>\n",
       "    </tr>\n",
       "    <tr>\n",
       "      <th>&lt;a href=\"http://trendsmap.com/\" rel=\"nofollow\"&gt;Trendsmap Alerting&lt;/a&gt;</th>\n",
       "      <td>12</td>\n",
       "    </tr>\n",
       "    <tr>\n",
       "      <th>&lt;a href=\"http://tweetmyjobs.com\" rel=\"nofollow\"&gt;SafeTweet by TweetMyJOBS&lt;/a&gt;</th>\n",
       "      <td>1</td>\n",
       "    </tr>\n",
       "    <tr>\n",
       "      <th>&lt;a href=\"http://twitter.com\" rel=\"nofollow\"&gt;Twitter Web Client&lt;/a&gt;</th>\n",
       "      <td>4286</td>\n",
       "    </tr>\n",
       "    <tr>\n",
       "      <th>&lt;a href=\"http://twitter.com/#!/download/ipad\" rel=\"nofollow\"&gt;Twitter for iPad&lt;/a&gt;</th>\n",
       "      <td>32</td>\n",
       "    </tr>\n",
       "    <tr>\n",
       "      <th>&lt;a href=\"http://twitter.com/download/android\" rel=\"nofollow\"&gt;Twitter for Android&lt;/a&gt;</th>\n",
       "      <td>8689</td>\n",
       "    </tr>\n",
       "    <tr>\n",
       "      <th>&lt;a href=\"http://twitter.com/download/iphone\" rel=\"nofollow\"&gt;Twitter for iPhone&lt;/a&gt;</th>\n",
       "      <td>9221</td>\n",
       "    </tr>\n",
       "    <tr>\n",
       "      <th>&lt;a href=\"http://www.samruston.co.uk\" rel=\"nofollow\"&gt;Flamingo for Android&lt;/a&gt;</th>\n",
       "      <td>2</td>\n",
       "    </tr>\n",
       "    <tr>\n",
       "      <th>&lt;a href=\"http://www.twitter.com\" rel=\"nofollow\"&gt;Twitter for Windows Phone&lt;/a&gt;</th>\n",
       "      <td>33</td>\n",
       "    </tr>\n",
       "    <tr>\n",
       "      <th>&lt;a href=\"https://dlvrit.com/\" rel=\"nofollow\"&gt;dlvr.it&lt;/a&gt;</th>\n",
       "      <td>10</td>\n",
       "    </tr>\n",
       "    <tr>\n",
       "      <th>&lt;a href=\"https://github.com/mariotaku/twidere/\" rel=\"nofollow\"&gt;Twidere for Android #7&lt;/a&gt;</th>\n",
       "      <td>17</td>\n",
       "    </tr>\n",
       "    <tr>\n",
       "      <th>&lt;a href=\"https://twitter.com/download/android\" rel=\"nofollow\"&gt;Twitter for Android Tablets&lt;/a&gt;</th>\n",
       "      <td>12</td>\n",
       "    </tr>\n",
       "    <tr>\n",
       "      <th>&lt;a href=\"https://untappd.com\" rel=\"nofollow\"&gt;Untappd&lt;/a&gt;</th>\n",
       "      <td>1</td>\n",
       "    </tr>\n",
       "  </tbody>\n",
       "</table>\n",
       "</div>"
      ],
      "text/plain": [
       "                                                    count_groupby\n",
       "source                                                           \n",
       "<a href=\"http://foursquare.com\" rel=\"nofollow\">...            138\n",
       "<a href=\"http://instagram.com\" rel=\"nofollow\">I...            805\n",
       "<a href=\"http://laconversa.com\" rel=\"nofollow\">...              1\n",
       "<a href=\"http://tapbots.com/software/tweetbot/m...              3\n",
       "<a href=\"http://tapbots.com/tweetbot\" rel=\"nofo...             92\n",
       "<a href=\"http://trendsmap.com/\" rel=\"nofollow\">...             12\n",
       "<a href=\"http://tweetmyjobs.com\" rel=\"nofollow\"...              1\n",
       "<a href=\"http://twitter.com\" rel=\"nofollow\">Twi...           4286\n",
       "<a href=\"http://twitter.com/#!/download/ipad\" r...             32\n",
       "<a href=\"http://twitter.com/download/android\" r...           8689\n",
       "<a href=\"http://twitter.com/download/iphone\" re...           9221\n",
       "<a href=\"http://www.samruston.co.uk\" rel=\"nofol...              2\n",
       "<a href=\"http://www.twitter.com\" rel=\"nofollow\"...             33\n",
       "<a href=\"https://dlvrit.com/\" rel=\"nofollow\">dl...             10\n",
       "<a href=\"https://github.com/mariotaku/twidere/\"...             17\n",
       "<a href=\"https://twitter.com/download/android\" ...             12\n",
       "<a href=\"https://untappd.com\" rel=\"nofollow\">Un...              1"
      ]
     },
     "execution_count": 5,
     "metadata": {},
     "output_type": "execute_result"
    }
   ],
   "source": [
    "data_f['count_groupby'] = 1\n",
    "data_f[['source', 'count_groupby']] \\\n",
    "         .groupby('source').count()  "
   ]
  },
  {
   "cell_type": "markdown",
   "metadata": {},
   "source": [
    "Quais fontes tem mais re-tweets? "
   ]
  },
  {
   "cell_type": "code",
   "execution_count": 6,
   "metadata": {},
   "outputs": [
    {
     "data": {
      "text/html": [
       "<div>\n",
       "<style>\n",
       "    .dataframe thead tr:only-child th {\n",
       "        text-align: right;\n",
       "    }\n",
       "\n",
       "    .dataframe thead th {\n",
       "        text-align: left;\n",
       "    }\n",
       "\n",
       "    .dataframe tbody tr th {\n",
       "        vertical-align: top;\n",
       "    }\n",
       "</style>\n",
       "<table border=\"1\" class=\"dataframe\">\n",
       "  <thead>\n",
       "    <tr style=\"text-align: right;\">\n",
       "      <th></th>\n",
       "      <th>count_groupby</th>\n",
       "    </tr>\n",
       "    <tr>\n",
       "      <th>retweeted</th>\n",
       "      <th></th>\n",
       "    </tr>\n",
       "  </thead>\n",
       "  <tbody>\n",
       "    <tr>\n",
       "      <th>False</th>\n",
       "      <td>23355</td>\n",
       "    </tr>\n",
       "  </tbody>\n",
       "</table>\n",
       "</div>"
      ],
      "text/plain": [
       "           count_groupby\n",
       "retweeted               \n",
       "False              23355"
      ]
     },
     "execution_count": 6,
     "metadata": {},
     "output_type": "execute_result"
    }
   ],
   "source": [
    "retweets = data_f[['retweeted', 'count_groupby']] .groupby('retweeted').count()      \n",
    "    \n",
    "retweets.head() "
   ]
  },
  {
   "cell_type": "markdown",
   "metadata": {
    "collapsed": true
   },
   "source": [
    "Explorando os dados dos usuarios"
   ]
  },
  {
   "cell_type": "code",
   "execution_count": 7,
   "metadata": {
    "collapsed": true
   },
   "outputs": [],
   "source": [
    "users = data_f['user'].apply(pd.Series)      \n",
    "\n"
   ]
  },
  {
   "cell_type": "code",
   "execution_count": 8,
   "metadata": {},
   "outputs": [
    {
     "data": {
      "text/plain": [
       "verified\n",
       "False    23287\n",
       "True        68\n",
       "Name: count_groupby, dtype: int64"
      ]
     },
     "execution_count": 8,
     "metadata": {},
     "output_type": "execute_result"
    }
   ],
   "source": [
    "#users['verified'].groupby('verified').count()     \n",
    "\n",
    "users['count_groupby'] = 1\n",
    "user_verif = users.groupby('verified').count()['count_groupby'] \n",
    "user_verif.head() "
   ]
  },
  {
   "cell_type": "code",
   "execution_count": 52,
   "metadata": {},
   "outputs": [
    {
     "data": {
      "text/html": [
       "<div>\n",
       "<style>\n",
       "    .dataframe thead tr:only-child th {\n",
       "        text-align: right;\n",
       "    }\n",
       "\n",
       "    .dataframe thead th {\n",
       "        text-align: left;\n",
       "    }\n",
       "\n",
       "    .dataframe tbody tr th {\n",
       "        vertical-align: top;\n",
       "    }\n",
       "</style>\n",
       "<table border=\"1\" class=\"dataframe\">\n",
       "  <thead>\n",
       "    <tr style=\"text-align: right;\">\n",
       "      <th></th>\n",
       "      <th>contributors</th>\n",
       "      <th>coordinates</th>\n",
       "      <th>created_at</th>\n",
       "      <th>display_text_range</th>\n",
       "      <th>entities</th>\n",
       "      <th>extended_entities</th>\n",
       "      <th>extended_tweet</th>\n",
       "      <th>favorite_count</th>\n",
       "      <th>favorited</th>\n",
       "      <th>filter_level</th>\n",
       "      <th>...</th>\n",
       "      <th>profile_text_color</th>\n",
       "      <th>profile_use_background_image</th>\n",
       "      <th>protected</th>\n",
       "      <th>screen_name</th>\n",
       "      <th>statuses_count</th>\n",
       "      <th>time_zone</th>\n",
       "      <th>url</th>\n",
       "      <th>utc_offset</th>\n",
       "      <th>verified</th>\n",
       "      <th>count_groupby</th>\n",
       "    </tr>\n",
       "  </thead>\n",
       "  <tbody>\n",
       "    <tr>\n",
       "      <th>0</th>\n",
       "      <td>None</td>\n",
       "      <td>{'type': 'Point', 'coordinates': [-46.57978356...</td>\n",
       "      <td>Mon Aug 07 00:50:03 +0000 2017</td>\n",
       "      <td>NaN</td>\n",
       "      <td>{'hashtags': [], 'urls': [{'url': 'https://t.c...</td>\n",
       "      <td>NaN</td>\n",
       "      <td>NaN</td>\n",
       "      <td>0</td>\n",
       "      <td>False</td>\n",
       "      <td>low</td>\n",
       "      <td>...</td>\n",
       "      <td>000000</td>\n",
       "      <td>False</td>\n",
       "      <td>False</td>\n",
       "      <td>enrico1830</td>\n",
       "      <td>9776</td>\n",
       "      <td>Brasilia</td>\n",
       "      <td>http://Instagram.com/enrico1830</td>\n",
       "      <td>-10800.0</td>\n",
       "      <td>False</td>\n",
       "      <td>1</td>\n",
       "    </tr>\n",
       "    <tr>\n",
       "      <th>1</th>\n",
       "      <td>None</td>\n",
       "      <td>None</td>\n",
       "      <td>Mon Aug 07 00:50:04 +0000 2017</td>\n",
       "      <td>NaN</td>\n",
       "      <td>{'hashtags': [], 'urls': [], 'user_mentions': ...</td>\n",
       "      <td>NaN</td>\n",
       "      <td>NaN</td>\n",
       "      <td>0</td>\n",
       "      <td>False</td>\n",
       "      <td>low</td>\n",
       "      <td>...</td>\n",
       "      <td>000000</td>\n",
       "      <td>False</td>\n",
       "      <td>False</td>\n",
       "      <td>gabwhenicome</td>\n",
       "      <td>37702</td>\n",
       "      <td>Pacific Time (US &amp; Canada)</td>\n",
       "      <td>https://www.instagram.com/thecure.s/</td>\n",
       "      <td>-25200.0</td>\n",
       "      <td>False</td>\n",
       "      <td>1</td>\n",
       "    </tr>\n",
       "    <tr>\n",
       "      <th>2</th>\n",
       "      <td>None</td>\n",
       "      <td>None</td>\n",
       "      <td>Mon Aug 07 00:50:04 +0000 2017</td>\n",
       "      <td>NaN</td>\n",
       "      <td>{'hashtags': [], 'urls': [], 'user_mentions': ...</td>\n",
       "      <td>NaN</td>\n",
       "      <td>NaN</td>\n",
       "      <td>0</td>\n",
       "      <td>False</td>\n",
       "      <td>low</td>\n",
       "      <td>...</td>\n",
       "      <td>333333</td>\n",
       "      <td>False</td>\n",
       "      <td>False</td>\n",
       "      <td>Lauralemec</td>\n",
       "      <td>11898</td>\n",
       "      <td>Brasilia</td>\n",
       "      <td>None</td>\n",
       "      <td>-10800.0</td>\n",
       "      <td>False</td>\n",
       "      <td>1</td>\n",
       "    </tr>\n",
       "    <tr>\n",
       "      <th>3</th>\n",
       "      <td>None</td>\n",
       "      <td>None</td>\n",
       "      <td>Mon Aug 07 00:50:05 +0000 2017</td>\n",
       "      <td>NaN</td>\n",
       "      <td>{'hashtags': [], 'urls': [], 'user_mentions': ...</td>\n",
       "      <td>NaN</td>\n",
       "      <td>NaN</td>\n",
       "      <td>0</td>\n",
       "      <td>False</td>\n",
       "      <td>low</td>\n",
       "      <td>...</td>\n",
       "      <td>333333</td>\n",
       "      <td>True</td>\n",
       "      <td>False</td>\n",
       "      <td>Gordin53</td>\n",
       "      <td>1403</td>\n",
       "      <td>None</td>\n",
       "      <td>None</td>\n",
       "      <td>NaN</td>\n",
       "      <td>False</td>\n",
       "      <td>1</td>\n",
       "    </tr>\n",
       "    <tr>\n",
       "      <th>4</th>\n",
       "      <td>None</td>\n",
       "      <td>None</td>\n",
       "      <td>Mon Aug 07 00:50:05 +0000 2017</td>\n",
       "      <td>[0, 15]</td>\n",
       "      <td>{'hashtags': [], 'urls': [], 'user_mentions': ...</td>\n",
       "      <td>{'media': [{'id': 894359957759569920, 'id_str'...</td>\n",
       "      <td>NaN</td>\n",
       "      <td>0</td>\n",
       "      <td>False</td>\n",
       "      <td>low</td>\n",
       "      <td>...</td>\n",
       "      <td>333333</td>\n",
       "      <td>True</td>\n",
       "      <td>False</td>\n",
       "      <td>aoutrafernanda</td>\n",
       "      <td>75102</td>\n",
       "      <td>Santiago</td>\n",
       "      <td>None</td>\n",
       "      <td>-14400.0</td>\n",
       "      <td>False</td>\n",
       "      <td>1</td>\n",
       "    </tr>\n",
       "  </tbody>\n",
       "</table>\n",
       "<p>5 rows × 72 columns</p>\n",
       "</div>"
      ],
      "text/plain": [
       "  contributors                                        coordinates  \\\n",
       "0         None  {'type': 'Point', 'coordinates': [-46.57978356...   \n",
       "1         None                                               None   \n",
       "2         None                                               None   \n",
       "3         None                                               None   \n",
       "4         None                                               None   \n",
       "\n",
       "                       created_at display_text_range  \\\n",
       "0  Mon Aug 07 00:50:03 +0000 2017                NaN   \n",
       "1  Mon Aug 07 00:50:04 +0000 2017                NaN   \n",
       "2  Mon Aug 07 00:50:04 +0000 2017                NaN   \n",
       "3  Mon Aug 07 00:50:05 +0000 2017                NaN   \n",
       "4  Mon Aug 07 00:50:05 +0000 2017            [0, 15]   \n",
       "\n",
       "                                            entities  \\\n",
       "0  {'hashtags': [], 'urls': [{'url': 'https://t.c...   \n",
       "1  {'hashtags': [], 'urls': [], 'user_mentions': ...   \n",
       "2  {'hashtags': [], 'urls': [], 'user_mentions': ...   \n",
       "3  {'hashtags': [], 'urls': [], 'user_mentions': ...   \n",
       "4  {'hashtags': [], 'urls': [], 'user_mentions': ...   \n",
       "\n",
       "                                   extended_entities extended_tweet  \\\n",
       "0                                                NaN            NaN   \n",
       "1                                                NaN            NaN   \n",
       "2                                                NaN            NaN   \n",
       "3                                                NaN            NaN   \n",
       "4  {'media': [{'id': 894359957759569920, 'id_str'...            NaN   \n",
       "\n",
       "   favorite_count  favorited filter_level      ...      profile_text_color  \\\n",
       "0               0      False          low      ...                  000000   \n",
       "1               0      False          low      ...                  000000   \n",
       "2               0      False          low      ...                  333333   \n",
       "3               0      False          low      ...                  333333   \n",
       "4               0      False          low      ...                  333333   \n",
       "\n",
       "   profile_use_background_image protected     screen_name  statuses_count  \\\n",
       "0                         False     False      enrico1830            9776   \n",
       "1                         False     False    gabwhenicome           37702   \n",
       "2                         False     False      Lauralemec           11898   \n",
       "3                          True     False        Gordin53            1403   \n",
       "4                          True     False  aoutrafernanda           75102   \n",
       "\n",
       "                    time_zone                                   url  \\\n",
       "0                    Brasilia       http://Instagram.com/enrico1830   \n",
       "1  Pacific Time (US & Canada)  https://www.instagram.com/thecure.s/   \n",
       "2                    Brasilia                                  None   \n",
       "3                        None                                  None   \n",
       "4                    Santiago                                  None   \n",
       "\n",
       "  utc_offset  verified count_groupby  \n",
       "0   -10800.0     False             1  \n",
       "1   -25200.0     False             1  \n",
       "2   -10800.0     False             1  \n",
       "3        NaN     False             1  \n",
       "4   -14400.0     False             1  \n",
       "\n",
       "[5 rows x 72 columns]"
      ]
     },
     "execution_count": 52,
     "metadata": {},
     "output_type": "execute_result"
    }
   ],
   "source": [
    "data = pd.concat([data_f, users], axis=1)     \n",
    "data.head()"
   ]
  },
  {
   "cell_type": "markdown",
   "metadata": {},
   "source": [
    "Quais variáveis do usuários são mais relevantes  para ter mais seguidores? "
   ]
  },
  {
   "cell_type": "code",
   "execution_count": 55,
   "metadata": {
    "scrolled": true
   },
   "outputs": [
    {
     "data": {
      "text/plain": [
       "Index(['contributors', 'coordinates', 'created_at', 'display_text_range',\n",
       "       'entities', 'extended_entities', 'extended_tweet', 'favorite_count',\n",
       "       'favorited', 'filter_level', 'geo', 'id', 'id_str',\n",
       "       'in_reply_to_screen_name', 'in_reply_to_status_id',\n",
       "       'in_reply_to_status_id_str', 'in_reply_to_user_id',\n",
       "       'in_reply_to_user_id_str', 'is_quote_status', 'lang', 'place',\n",
       "       'possibly_sensitive', 'quoted_status', 'quoted_status_id',\n",
       "       'quoted_status_id_str', 'retweet_count', 'retweeted', 'source', 'text',\n",
       "       'timestamp_ms', 'truncated', 'user', 'count_groupby',\n",
       "       'contributors_enabled', 'created_at', 'default_profile',\n",
       "       'default_profile_image', 'description', 'favourites_count',\n",
       "       'follow_request_sent', 'followers_count', 'following', 'friends_count',\n",
       "       'geo_enabled', 'id', 'id_str', 'is_translator', 'lang', 'listed_count',\n",
       "       'location', 'name', 'notifications', 'profile_background_color',\n",
       "       'profile_background_image_url', 'profile_background_image_url_https',\n",
       "       'profile_background_tile', 'profile_banner_url', 'profile_image_url',\n",
       "       'profile_image_url_https', 'profile_link_color',\n",
       "       'profile_sidebar_border_color', 'profile_sidebar_fill_color',\n",
       "       'profile_text_color', 'profile_use_background_image', 'protected',\n",
       "       'screen_name', 'statuses_count', 'time_zone', 'url', 'utc_offset',\n",
       "       'verified', 'count_groupby'],\n",
       "      dtype='object')"
      ]
     },
     "execution_count": 55,
     "metadata": {},
     "output_type": "execute_result"
    }
   ],
   "source": [
    "data.columns"
   ]
  },
  {
   "cell_type": "code",
   "execution_count": 10,
   "metadata": {
    "collapsed": true
   },
   "outputs": [],
   "source": [
    "top_users = users[users['followers_count'] > 100000]       \n"
   ]
  },
  {
   "cell_type": "code",
   "execution_count": 11,
   "metadata": {},
   "outputs": [
    {
     "data": {
      "text/plain": [
       "25"
      ]
     },
     "execution_count": 11,
     "metadata": {},
     "output_type": "execute_result"
    }
   ],
   "source": [
    "len(top_users.name.unique()) "
   ]
  },
  {
   "cell_type": "code",
   "execution_count": 59,
   "metadata": {},
   "outputs": [
    {
     "data": {
      "text/plain": [
       "566      Narrador esportivo. Qual quer duvida compre o ...\n",
       "572                                                   None\n",
       "2344     Comentarista do #CBLOL (League of Legends Cast...\n",
       "2970              viciado na loucura por pura malandragem.\n",
       "3017     Contato Profissional: contatoflokiis@gmail.com...\n",
       "3136     Como chegar nela eu não sei ela tão interessan...\n",
       "3235     Como chegar nela eu não sei ela tão interessan...\n",
       "3355     Prefeito eleito com mais de 3 milhões de votos...\n",
       "3426     Espaço para críticas, sugestões e elogios sobr...\n",
       "3476     Espaço para críticas, sugestões e elogios sobr...\n",
       "3709     Sou um Zeus das 2 Rodas ! ❤. Snapchat: aln1001...\n",
       "3910     🇧🇷🇮🇹 Brazilian/Italian | Marketing | Music Ind...\n",
       "4461              viciado na loucura por pura malandragem.\n",
       "4665     Narrador esportivo. Qual quer duvida compre o ...\n",
       "5126                                                 a nao\n",
       "5292     Narrador esportivo. Qual quer duvida compre o ...\n",
       "6393     Espaço para críticas, sugestões e elogios sobr...\n",
       "6606     PELO CORINTHIANS COM MUITO AMOR ATÉ O FIM! ❣\\n...\n",
       "7138     🇧🇷🇮🇹 Brazilian/Italian | Marketing | Music Ind...\n",
       "7197     Narrador esportivo. Qual quer duvida compre o ...\n",
       "7234                      Twitteiro, Katycat e sem grammy.\n",
       "8116     Perfil oficial da Warner Bros. Pictures Brasil...\n",
       "8298     Narrativas Independentes Jornalismo e Ação│Ind...\n",
       "8517     PELO CORINTHIANS COM MUITO AMOR ATÉ O FIM! ❣\\n...\n",
       "8689     Snap:alexmapeli Contato : assessoria@alexmapel...\n",
       "8832     Tenho sérios problemas com marmitas, pombos e ...\n",
       "9485     Assista. Assine. Compartilhe.\\n\\nhttps://www.y...\n",
       "9647     Assista. Assine. Compartilhe.\\n\\nhttps://www.y...\n",
       "10709    Narrador esportivo. Qual quer duvida compre o ...\n",
       "11461    Comentarista do #CBLOL (League of Legends Cast...\n",
       "11577    Tenho sérios problemas com marmitas, pombos e ...\n",
       "11706    Brazilian Counter-Strike: Global Offensive com...\n",
       "12568    Comentarista do #CBLOL (League of Legends Cast...\n",
       "13417    Comentarista do #CBLOL (League of Legends Cast...\n",
       "14241    Comentarista do #CBLOL (League of Legends Cast...\n",
       "14631    contato@fernandakeulla.com.br/imprensa@fernand...\n",
       "15247                                             Escritor\n",
       "16464    http://instagram.com/marco_tuliooo\\r\\nContato:...\n",
       "16585    Tentando arrancar uns sorrisos por aí, tem uma...\n",
       "16915    Jornalista. Falo de futebol na ESPN Brasil e e...\n",
       "17224    🇧🇷🇮🇹 Brazilian/Italian | Marketing | Music Ind...\n",
       "17238    Tentando arrancar uns sorrisos por aí, tem uma...\n",
       "17841         Jornalista, chefe de Redação dos Canais ESPN\n",
       "18047    Narrativas Independentes Jornalismo e Ação│Ind...\n",
       "18475         Jornalista, chefe de Redação dos Canais ESPN\n",
       "18554         Jornalista, chefe de Redação dos Canais ESPN\n",
       "19317    Narrativas Independentes Jornalismo e Ação│Ind...\n",
       "20081                     Twitteiro, Katycat e sem grammy.\n",
       "Name: description, dtype: object"
      ]
     },
     "execution_count": 59,
     "metadata": {},
     "output_type": "execute_result"
    }
   ],
   "source": [
    "top_users.description.head(1000)"
   ]
  },
  {
   "cell_type": "code",
   "execution_count": 13,
   "metadata": {},
   "outputs": [
    {
     "data": {
      "text/plain": [
       "6430"
      ]
     },
     "execution_count": 13,
     "metadata": {},
     "output_type": "execute_result"
    }
   ],
   "source": [
    "len(users.name.unique())"
   ]
  },
  {
   "cell_type": "code",
   "execution_count": 14,
   "metadata": {
    "collapsed": true
   },
   "outputs": [],
   "source": [
    "text = data_f[['source', 'text']].where(data_f['source'].str.contains('twitter.com'))      "
   ]
  },
  {
   "cell_type": "code",
   "execution_count": 15,
   "metadata": {
    "collapsed": true
   },
   "outputs": [],
   "source": [
    "import re\n",
    "\n",
    "texto = text['text'].dropna()\n",
    "\n",
    "texto_limpo_sem_emoji = texto[~texto.str.contains(u\"[^\\U00000000-\\U0000d7ff\\U0000e000-\\U0000ffff]\").dropna()]\n"
   ]
  },
  {
   "cell_type": "code",
   "execution_count": 16,
   "metadata": {
    "collapsed": true,
    "scrolled": false
   },
   "outputs": [],
   "source": [
    "\n",
    "files_number = 5\n",
    "for i in range(5):\n",
    "    chunk = texto_limpo_sem_emoji.sample(frac=0.25)\n",
    "    chunk.to_csv('tweets_%s.csv'% (i)) "
   ]
  },
  {
   "cell_type": "code",
   "execution_count": 17,
   "metadata": {
    "collapsed": true
   },
   "outputs": [],
   "source": [
    "teste = text.head(100)"
   ]
  },
  {
   "cell_type": "code",
   "execution_count": 18,
   "metadata": {},
   "outputs": [
    {
     "data": {
      "text/plain": [
       "22273"
      ]
     },
     "execution_count": 18,
     "metadata": {},
     "output_type": "execute_result"
    }
   ],
   "source": [
    "len(texto)"
   ]
  },
  {
   "cell_type": "code",
   "execution_count": 19,
   "metadata": {},
   "outputs": [
    {
     "data": {
      "text/plain": [
       "19838"
      ]
     },
     "execution_count": 19,
     "metadata": {},
     "output_type": "execute_result"
    }
   ],
   "source": [
    "len(texto_limpo_sem_emoji)"
   ]
  },
  {
   "cell_type": "code",
   "execution_count": 31,
   "metadata": {
    "collapsed": true
   },
   "outputs": [],
   "source": [
    "import nltk"
   ]
  },
  {
   "cell_type": "code",
   "execution_count": 21,
   "metadata": {},
   "outputs": [
    {
     "data": {
      "text/plain": [
       "1    se tu era trouxa tu continua sendo\\nsó q pior ...\n",
       "2    sera q alguem pode pular pra parte q eu to apo...\n",
       "3    @gleisi  Vc nem vcs vão conseguir voltar ao po...\n",
       "4              vai começar GOT https://t.co/NU6NROXES2\n",
       "5                           Minha mãe tá loucaaaaaaaaa\n",
       "Name: text, dtype: object"
      ]
     },
     "execution_count": 21,
     "metadata": {},
     "output_type": "execute_result"
    }
   ],
   "source": [
    "texto.head()"
   ]
  },
  {
   "cell_type": "code",
   "execution_count": 47,
   "metadata": {},
   "outputs": [
    {
     "name": "stdout",
     "output_type": "stream",
     "text": [
      "(S\n",
      "  O/NNP\n",
      "  Chico/NNP\n",
      "  Ferramenta/NNP\n",
      "  trabalha/NN\n",
      "  em/NN\n",
      "  (PERSON Ipatinga/NNP))\n"
     ]
    },
    {
     "data": {
      "text/plain": [
       "\"\\ndef extract_entity_names(t):\\n    entity_names = []\\n    \\n    if hasattr(t, 'node') and t.node:\\n        if t.node == 'NE':\\n            entity_names.append(' '.join([child[0] for child in t]))\\n        else:\\n            for child in t:\\n                entity_names.extend(extract_entity_names(child))\\n                \\n    return entity_names\\n\\nentity_names = []\\nfor tree in chunked_sentences:\\n    # Print results per sentence\\n    # print extract_entity_names(tree)\\n    \\n    entity_names.extend(extract_entity_names(tree))\\n\\n# Print all entity names\\n#print entity_names\\n\\n# Print unique entity names\\n\""
      ]
     },
     "execution_count": 47,
     "metadata": {},
     "output_type": "execute_result"
    }
   ],
   "source": [
    "\n",
    "from nltk import word_tokenize, pos_tag, ne_chunk\n",
    " \n",
    "sentence = \"O Chico Ferramenta trabalha em Ipatinga\"\n",
    " \n",
    "print (ne_chunk(pos_tag(word_tokenize(sentence))))\n",
    "'''\n",
    "def extract_entity_names(t):\n",
    "    entity_names = []\n",
    "    \n",
    "    if hasattr(t, 'node') and t.node:\n",
    "        if t.node == 'NE':\n",
    "            entity_names.append(' '.join([child[0] for child in t]))\n",
    "        else:\n",
    "            for child in t:\n",
    "                entity_names.extend(extract_entity_names(child))\n",
    "                \n",
    "    return entity_names\n",
    "\n",
    "entity_names = []\n",
    "for tree in chunked_sentences:\n",
    "    # Print results per sentence\n",
    "    # print extract_entity_names(tree)\n",
    "    \n",
    "    entity_names.extend(extract_entity_names(tree))\n",
    "\n",
    "# Print all entity names\n",
    "#print entity_names\n",
    "\n",
    "# Print unique entity names\n",
    "'''\n",
    "#print(chunked_sentences)"
   ]
  },
  {
   "cell_type": "code",
   "execution_count": 24,
   "metadata": {},
   "outputs": [
    {
     "name": "stdout",
     "output_type": "stream",
     "text": [
      "showing info https://raw.githubusercontent.com/nltk/nltk_data/gh-pages/index.xml\n"
     ]
    },
    {
     "data": {
      "text/plain": [
       "True"
      ]
     },
     "execution_count": 24,
     "metadata": {},
     "output_type": "execute_result"
    }
   ],
   "source": [
    "nltk.download()"
   ]
  },
  {
   "cell_type": "code",
   "execution_count": null,
   "metadata": {
    "collapsed": true
   },
   "outputs": [],
   "source": []
  }
 ],
 "metadata": {
  "kernelspec": {
   "display_name": "Python 3",
   "language": "python",
   "name": "python3"
  },
  "language_info": {
   "codemirror_mode": {
    "name": "ipython",
    "version": 3
   },
   "file_extension": ".py",
   "mimetype": "text/x-python",
   "name": "python",
   "nbconvert_exporter": "python",
   "pygments_lexer": "ipython3",
   "version": "3.6.1"
  }
 },
 "nbformat": 4,
 "nbformat_minor": 2
}
